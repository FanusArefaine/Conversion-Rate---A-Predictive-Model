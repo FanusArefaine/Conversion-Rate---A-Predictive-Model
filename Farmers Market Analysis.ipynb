{
 "cells": [
  {
   "cell_type": "markdown",
   "metadata": {},
   "source": [
    "# Project 19: Farmers' Market Locations Analysis"
   ]
  },
  {
   "cell_type": "markdown",
   "metadata": {},
   "source": [
    "As a part of our graduate course, Enterprise Software Platforms, we are working on a mini-project on analysing farmers' market and location analysis."
   ]
  },
  {
   "cell_type": "markdown",
   "metadata": {},
   "source": [
    "## Project Workflow and Stages"
   ]
  },
  {
   "cell_type": "markdown",
   "metadata": {},
   "source": [
    "Our mini project will have the following stages:"
   ]
  },
  {
   "cell_type": "markdown",
   "metadata": {},
   "source": [
    "1. Problem statement / Project Goals,\n",
    "\n",
    "2. Loading Essential Python Libraries,\n",
    "\n",
    "3. Aquiring and Loading Dataset,\n",
    "\n",
    "4. Wragle, Prepare and Cleanse Data,\n",
    "\n",
    "5. Data visualization and Exploration,\n",
    "\n",
    "6. Analysing Data and Pattern Identification,\n",
    "\n",
    "7. Present and Report results."
   ]
  },
  {
   "cell_type": "markdown",
   "metadata": {},
   "source": [
    "## 1. Problem Statement / Project Goals"
   ]
  },
  {
   "cell_type": "markdown",
   "metadata": {},
   "source": [
    "As required and clearly stated on canvas, in this mini-project, we are working doing data analytics to find correlations among the variables of the dataset and present patterns in the dataset."
   ]
  },
  {
   "cell_type": "markdown",
   "metadata": {},
   "source": [
    "## 2. Loading Esential Python LIbraries"
   ]
  },
  {
   "cell_type": "code",
   "execution_count": 1,
   "metadata": {},
   "outputs": [],
   "source": [
    "import numpy as np\n",
    "import pandas as pd"
   ]
  },
  {
   "cell_type": "markdown",
   "metadata": {},
   "source": [
    "## 3. Aquiring and Loading Data"
   ]
  },
  {
   "cell_type": "markdown",
   "metadata": {},
   "source": [
    "We have looked through various different sites to find the most relevant dataset that can support our project. We were able find a relativaly big and relevant dataset from Data World, [https://data.world/]."
   ]
  },
  {
   "cell_type": "markdown",
   "metadata": {},
   "source": [
    "As shown below, our dataset contains 8655 rows and 59 columns."
   ]
  },
  {
   "cell_type": "code",
   "execution_count": 2,
   "metadata": {},
   "outputs": [
    {
     "output_type": "execute_result",
     "data": {
      "text/plain": "(8655, 59)"
     },
     "metadata": {},
     "execution_count": 2
    }
   ],
   "source": [
    "df = pd.read_csv('/Users/fanusarefaine/Desktop/farmersMarkets.csv')\n",
    "df.shape"
   ]
  },
  {
   "cell_type": "code",
   "execution_count": 3,
   "metadata": {},
   "outputs": [
    {
     "output_type": "execute_result",
     "data": {
      "text/plain": "Index(['FMID', 'MarketName', 'Website', 'Facebook', 'Twitter', 'Youtube',\n       'OtherMedia', 'street', 'city', 'County', 'State', 'zip', 'Season1Date',\n       'Season1Time', 'Season2Date', 'Season2Time', 'Season3Date',\n       'Season3Time', 'Season4Date', 'Season4Time', 'x', 'y', 'Location',\n       'Credit', 'WIC', 'WICcash', 'SFMNP', 'SNAP', 'Organic', 'Bakedgoods',\n       'Cheese', 'Crafts', 'Flowers', 'Eggs', 'Seafood', 'Herbs', 'Vegetables',\n       'Honey', 'Jams', 'Maple', 'Meat', 'Nursery', 'Nuts', 'Plants',\n       'Poultry', 'Prepared', 'Soap', 'Trees', 'Wine', 'Coffee', 'Beans',\n       'Fruits', 'Grains', 'Juices', 'Mushrooms', 'PetFood', 'Tofu',\n       'WildHarvested', 'updateTime'],\n      dtype='object')"
     },
     "metadata": {},
     "execution_count": 3
    }
   ],
   "source": [
    "# Our dataset contains the following attributes\n",
    "\n",
    "df.columns"
   ]
  },
  {
   "cell_type": "code",
   "execution_count": 4,
   "metadata": {},
   "outputs": [
    {
     "output_type": "execute_result",
     "data": {
      "text/plain": "      FMID                                        MarketName  \\\n0  1012063   Caledonia Farmers Market Association - Danville   \n1  1011871                 Stearns Homestead Farmers' Market   \n2  1011878                                   100 Mile Market   \n3  1009364                 106 S. Main Street Farmers Market   \n4  1010691               10th Steet Community Farmers Market   \n5  1002454                              112st Madison Avenue   \n6  1011100                           12 South Farmers Market   \n7  1009845        125th Street Fresh Connect Farmers' Market   \n8  1005586               12th & Brandywine Urban Farm Market   \n9  1008071                              14&U Farmers' Market   \n\n                                             Website  \\\n0  https://sites.google.com/site/caledoniafarmers...   \n1                        http://Stearnshomestead.com   \n2                          http://www.pfcmarkets.com   \n3             http://thetownofsixmile.wordpress.com/   \n4                                                NaN   \n5                                                NaN   \n6                http://www.12southfarmersmarket.com   \n7            http://www.125thStreetFarmersMarket.com   \n8                                                NaN   \n9                                                NaN   \n\n                                            Facebook  \\\n0  https://www.facebook.com/Danville.VT.Farmers.M...   \n1                                                NaN   \n2    https://www.facebook.com/100MileMarket/?fref=ts   \n3                                                NaN   \n4                                                NaN   \n5                                                NaN   \n6                            12_South_Farmers_Market   \n7  https://www.facebook.com/125thStreetFarmersMarket   \n8  https://www.facebook.com/pages/12th-Brandywine...   \n9          https://www.facebook.com/14UFarmersMarket   \n\n                               Twitter Youtube  \\\n0                                  NaN     NaN   \n1                                  NaN     NaN   \n2                                  NaN     NaN   \n3                                  NaN     NaN   \n4                                  NaN     NaN   \n5                                  NaN     NaN   \n6                      @12southfrmsmkt     NaN   \n7  https://twitter.com/FarmMarket125th     NaN   \n8                                  NaN     NaN   \n9    https://twitter.com/14UFarmersMkt     NaN   \n\n                                          OtherMedia  \\\n0                                                NaN   \n1                                                NaN   \n2           https://www.instagram.com/100milemarket/   \n3                                                NaN   \n4  http://agrimissouri.com/mo-grown/grodetail.php...   \n5                                                NaN   \n6                                    @12southfrmsmkt   \n7              Instagram--> 125thStreetFarmersMarket   \n8  https://www.facebook.com/delawareurbanfarmcoal...   \n9                                                NaN   \n\n                                              street        city  \\\n0                                                NaN   Danville    \n1                                    6975 Ridge Road      Parma    \n2                                    507 Harrison St   Kalamazoo   \n3                                 106 S. Main Street    Six Mile   \n4                             10th Street and Poplar      Lamar    \n5                               112th Madison Avenue    New York   \n6                             3000 Granny White Pike   Nashville   \n7  163 West 125th Street and Adam Clayton Powell,...    New York   \n8                          12th & Brandywine Streets  Wilmington   \n9                                  1400 U Street NW   Washington   \n\n                 County  ... Coffee Beans Fruits Grains Juices Mushrooms  \\\n0             Caledonia  ...      Y     Y      Y      N      Y         N   \n1              Cuyahoga  ...      N     N      Y      N      N         N   \n2             Kalamazoo  ...      N     N      Y      N      N         N   \n3                   NaN  ...    NaN   NaN    NaN    NaN    NaN       NaN   \n4                Barton  ...      N     N      Y      N      N         N   \n5              New York  ...      N     N      N      N      N         N   \n6              Davidson  ...      Y     N      Y      N      Y         Y   \n7              New York  ...      Y     N      Y      N      Y         N   \n8            New Castle  ...      N     N      Y      N      N         N   \n9  District of Columbia  ...      N     Y      Y      Y      Y         N   \n\n  PetFood Tofu WildHarvested             updateTime  \n0       Y    N             N  6/28/2016 12:10:09 PM  \n1       Y    N             N    4/9/2016 8:05:17 PM  \n2       N    N             N   7/15/2016 7:20:33 PM  \n3     NaN  NaN           NaN                   2013  \n4       N    N             N  10/28/2014 9:49:46 AM  \n5       N    N             N   3/1/2012 10:38:22 AM  \n6       Y    N             N   5/1/2015 10:40:56 AM  \n7       N    N             N    4/7/2014 4:32:01 PM  \n8       N    N             N    4/3/2014 3:43:31 PM  \n9       N    N             N    4/5/2014 1:49:04 PM  \n\n[10 rows x 59 columns]",
      "text/html": "<div>\n<style scoped>\n    .dataframe tbody tr th:only-of-type {\n        vertical-align: middle;\n    }\n\n    .dataframe tbody tr th {\n        vertical-align: top;\n    }\n\n    .dataframe thead th {\n        text-align: right;\n    }\n</style>\n<table border=\"1\" class=\"dataframe\">\n  <thead>\n    <tr style=\"text-align: right;\">\n      <th></th>\n      <th>FMID</th>\n      <th>MarketName</th>\n      <th>Website</th>\n      <th>Facebook</th>\n      <th>Twitter</th>\n      <th>Youtube</th>\n      <th>OtherMedia</th>\n      <th>street</th>\n      <th>city</th>\n      <th>County</th>\n      <th>...</th>\n      <th>Coffee</th>\n      <th>Beans</th>\n      <th>Fruits</th>\n      <th>Grains</th>\n      <th>Juices</th>\n      <th>Mushrooms</th>\n      <th>PetFood</th>\n      <th>Tofu</th>\n      <th>WildHarvested</th>\n      <th>updateTime</th>\n    </tr>\n  </thead>\n  <tbody>\n    <tr>\n      <td>0</td>\n      <td>1012063</td>\n      <td>Caledonia Farmers Market Association - Danville</td>\n      <td>https://sites.google.com/site/caledoniafarmers...</td>\n      <td>https://www.facebook.com/Danville.VT.Farmers.M...</td>\n      <td>NaN</td>\n      <td>NaN</td>\n      <td>NaN</td>\n      <td>NaN</td>\n      <td>Danville</td>\n      <td>Caledonia</td>\n      <td>...</td>\n      <td>Y</td>\n      <td>Y</td>\n      <td>Y</td>\n      <td>N</td>\n      <td>Y</td>\n      <td>N</td>\n      <td>Y</td>\n      <td>N</td>\n      <td>N</td>\n      <td>6/28/2016 12:10:09 PM</td>\n    </tr>\n    <tr>\n      <td>1</td>\n      <td>1011871</td>\n      <td>Stearns Homestead Farmers' Market</td>\n      <td>http://Stearnshomestead.com</td>\n      <td>NaN</td>\n      <td>NaN</td>\n      <td>NaN</td>\n      <td>NaN</td>\n      <td>6975 Ridge Road</td>\n      <td>Parma</td>\n      <td>Cuyahoga</td>\n      <td>...</td>\n      <td>N</td>\n      <td>N</td>\n      <td>Y</td>\n      <td>N</td>\n      <td>N</td>\n      <td>N</td>\n      <td>Y</td>\n      <td>N</td>\n      <td>N</td>\n      <td>4/9/2016 8:05:17 PM</td>\n    </tr>\n    <tr>\n      <td>2</td>\n      <td>1011878</td>\n      <td>100 Mile Market</td>\n      <td>http://www.pfcmarkets.com</td>\n      <td>https://www.facebook.com/100MileMarket/?fref=ts</td>\n      <td>NaN</td>\n      <td>NaN</td>\n      <td>https://www.instagram.com/100milemarket/</td>\n      <td>507 Harrison St</td>\n      <td>Kalamazoo</td>\n      <td>Kalamazoo</td>\n      <td>...</td>\n      <td>N</td>\n      <td>N</td>\n      <td>Y</td>\n      <td>N</td>\n      <td>N</td>\n      <td>N</td>\n      <td>N</td>\n      <td>N</td>\n      <td>N</td>\n      <td>7/15/2016 7:20:33 PM</td>\n    </tr>\n    <tr>\n      <td>3</td>\n      <td>1009364</td>\n      <td>106 S. Main Street Farmers Market</td>\n      <td>http://thetownofsixmile.wordpress.com/</td>\n      <td>NaN</td>\n      <td>NaN</td>\n      <td>NaN</td>\n      <td>NaN</td>\n      <td>106 S. Main Street</td>\n      <td>Six Mile</td>\n      <td>NaN</td>\n      <td>...</td>\n      <td>NaN</td>\n      <td>NaN</td>\n      <td>NaN</td>\n      <td>NaN</td>\n      <td>NaN</td>\n      <td>NaN</td>\n      <td>NaN</td>\n      <td>NaN</td>\n      <td>NaN</td>\n      <td>2013</td>\n    </tr>\n    <tr>\n      <td>4</td>\n      <td>1010691</td>\n      <td>10th Steet Community Farmers Market</td>\n      <td>NaN</td>\n      <td>NaN</td>\n      <td>NaN</td>\n      <td>NaN</td>\n      <td>http://agrimissouri.com/mo-grown/grodetail.php...</td>\n      <td>10th Street and Poplar</td>\n      <td>Lamar</td>\n      <td>Barton</td>\n      <td>...</td>\n      <td>N</td>\n      <td>N</td>\n      <td>Y</td>\n      <td>N</td>\n      <td>N</td>\n      <td>N</td>\n      <td>N</td>\n      <td>N</td>\n      <td>N</td>\n      <td>10/28/2014 9:49:46 AM</td>\n    </tr>\n    <tr>\n      <td>5</td>\n      <td>1002454</td>\n      <td>112st Madison Avenue</td>\n      <td>NaN</td>\n      <td>NaN</td>\n      <td>NaN</td>\n      <td>NaN</td>\n      <td>NaN</td>\n      <td>112th Madison Avenue</td>\n      <td>New York</td>\n      <td>New York</td>\n      <td>...</td>\n      <td>N</td>\n      <td>N</td>\n      <td>N</td>\n      <td>N</td>\n      <td>N</td>\n      <td>N</td>\n      <td>N</td>\n      <td>N</td>\n      <td>N</td>\n      <td>3/1/2012 10:38:22 AM</td>\n    </tr>\n    <tr>\n      <td>6</td>\n      <td>1011100</td>\n      <td>12 South Farmers Market</td>\n      <td>http://www.12southfarmersmarket.com</td>\n      <td>12_South_Farmers_Market</td>\n      <td>@12southfrmsmkt</td>\n      <td>NaN</td>\n      <td>@12southfrmsmkt</td>\n      <td>3000 Granny White Pike</td>\n      <td>Nashville</td>\n      <td>Davidson</td>\n      <td>...</td>\n      <td>Y</td>\n      <td>N</td>\n      <td>Y</td>\n      <td>N</td>\n      <td>Y</td>\n      <td>Y</td>\n      <td>Y</td>\n      <td>N</td>\n      <td>N</td>\n      <td>5/1/2015 10:40:56 AM</td>\n    </tr>\n    <tr>\n      <td>7</td>\n      <td>1009845</td>\n      <td>125th Street Fresh Connect Farmers' Market</td>\n      <td>http://www.125thStreetFarmersMarket.com</td>\n      <td>https://www.facebook.com/125thStreetFarmersMarket</td>\n      <td>https://twitter.com/FarmMarket125th</td>\n      <td>NaN</td>\n      <td>Instagram--&gt; 125thStreetFarmersMarket</td>\n      <td>163 West 125th Street and Adam Clayton Powell,...</td>\n      <td>New York</td>\n      <td>New York</td>\n      <td>...</td>\n      <td>Y</td>\n      <td>N</td>\n      <td>Y</td>\n      <td>N</td>\n      <td>Y</td>\n      <td>N</td>\n      <td>N</td>\n      <td>N</td>\n      <td>N</td>\n      <td>4/7/2014 4:32:01 PM</td>\n    </tr>\n    <tr>\n      <td>8</td>\n      <td>1005586</td>\n      <td>12th &amp; Brandywine Urban Farm Market</td>\n      <td>NaN</td>\n      <td>https://www.facebook.com/pages/12th-Brandywine...</td>\n      <td>NaN</td>\n      <td>NaN</td>\n      <td>https://www.facebook.com/delawareurbanfarmcoal...</td>\n      <td>12th &amp; Brandywine Streets</td>\n      <td>Wilmington</td>\n      <td>New Castle</td>\n      <td>...</td>\n      <td>N</td>\n      <td>N</td>\n      <td>Y</td>\n      <td>N</td>\n      <td>N</td>\n      <td>N</td>\n      <td>N</td>\n      <td>N</td>\n      <td>N</td>\n      <td>4/3/2014 3:43:31 PM</td>\n    </tr>\n    <tr>\n      <td>9</td>\n      <td>1008071</td>\n      <td>14&amp;U Farmers' Market</td>\n      <td>NaN</td>\n      <td>https://www.facebook.com/14UFarmersMarket</td>\n      <td>https://twitter.com/14UFarmersMkt</td>\n      <td>NaN</td>\n      <td>NaN</td>\n      <td>1400 U Street NW</td>\n      <td>Washington</td>\n      <td>District of Columbia</td>\n      <td>...</td>\n      <td>N</td>\n      <td>Y</td>\n      <td>Y</td>\n      <td>Y</td>\n      <td>Y</td>\n      <td>N</td>\n      <td>N</td>\n      <td>N</td>\n      <td>N</td>\n      <td>4/5/2014 1:49:04 PM</td>\n    </tr>\n  </tbody>\n</table>\n<p>10 rows × 59 columns</p>\n</div>"
     },
     "metadata": {},
     "execution_count": 4
    }
   ],
   "source": [
    "# General overview of our dataset, first 10 elements.\n",
    "\n",
    "df.head(10)"
   ]
  },
  {
   "cell_type": "markdown",
   "metadata": {},
   "source": [
    "## 4. Wraggle, Prepare and Clean Data"
   ]
  },
  {
   "cell_type": "markdown",
   "metadata": {},
   "source": [
    "###     4.1 Handling Missing Data"
   ]
  },
  {
   "cell_type": "markdown",
   "metadata": {},
   "source": [
    "- As missing data are very misleading when data analysis is concerned, we are working to handle missing data on this section.\n",
    "- Most of the times missing data can be handled in certain ways and we are using the following ways based on the importance of specific attribute.\n",
    "      - Getting rid of the corresponding data object\n",
    "      - Getting rid of the whole attribute\n",
    "      - Set the values to some other values based on the distribution specific attribute\n"
   ]
  },
  {
   "cell_type": "code",
   "execution_count": 5,
   "metadata": {},
   "outputs": [
    {
     "output_type": "execute_result",
     "data": {
      "text/plain": "FMID                0\nMarketName          0\nWebsite          3453\nFacebook         4860\nTwitter          7659\nYoutube          8494\nOtherMedia       8019\nstreet            283\ncity               40\nCounty            537\nState               0\nzip               941\nSeason1Date      3269\nSeason1Time      3136\nSeason2Date      8226\nSeason2Time      8241\nSeason3Date      8577\nSeason3Time      8581\nSeason4Date      8648\nSeason4Time      8648\nx                  29\ny                  29\nLocation         5733\nCredit              0\nWIC                 0\nWICcash             0\nSFMNP               0\nSNAP                0\nOrganic             0\nBakedgoods       3020\nCheese           3020\nCrafts           3020\nFlowers          3020\nEggs             3020\nSeafood          3020\nHerbs            3020\nVegetables       3020\nHoney            3020\nJams             3020\nMaple            3020\nMeat             3020\nNursery          3020\nNuts             3020\nPlants           3020\nPoultry          3020\nPrepared         3020\nSoap             3020\nTrees            3020\nWine             3020\nCoffee           3020\nBeans            3020\nFruits           3020\nGrains           3020\nJuices           3020\nMushrooms        3020\nPetFood          3020\nTofu             3020\nWildHarvested    3020\nupdateTime          0\ndtype: int64"
     },
     "metadata": {},
     "execution_count": 5
    }
   ],
   "source": [
    "# Here we analyse how many null values our attributes have\n",
    "\n",
    "# As clearly shown, we have a lot of null values\n",
    "\n",
    "df.isnull().sum()"
   ]
  },
  {
   "cell_type": "code",
   "execution_count": 6,
   "metadata": {},
   "outputs": [
    {
     "output_type": "stream",
     "name": "stdout",
     "text": "<class 'pandas.core.frame.DataFrame'>\nRangeIndex: 8655 entries, 0 to 8654\nData columns (total 59 columns):\nFMID             8655 non-null int64\nMarketName       8655 non-null object\nWebsite          5202 non-null object\nFacebook         3795 non-null object\nTwitter          996 non-null object\nYoutube          161 non-null object\nOtherMedia       636 non-null object\nstreet           8372 non-null object\ncity             8615 non-null object\nCounty           8118 non-null object\nState            8655 non-null object\nzip              7714 non-null object\nSeason1Date      5386 non-null object\nSeason1Time      5519 non-null object\nSeason2Date      429 non-null object\nSeason2Time      414 non-null object\nSeason3Date      78 non-null object\nSeason3Time      74 non-null object\nSeason4Date      7 non-null object\nSeason4Time      7 non-null object\nx                8626 non-null float64\ny                8626 non-null float64\nLocation         2922 non-null object\nCredit           8655 non-null object\nWIC              8655 non-null object\nWICcash          8655 non-null object\nSFMNP            8655 non-null object\nSNAP             8655 non-null object\nOrganic          8655 non-null object\nBakedgoods       5635 non-null object\nCheese           5635 non-null object\nCrafts           5635 non-null object\nFlowers          5635 non-null object\nEggs             5635 non-null object\nSeafood          5635 non-null object\nHerbs            5635 non-null object\nVegetables       5635 non-null object\nHoney            5635 non-null object\nJams             5635 non-null object\nMaple            5635 non-null object\nMeat             5635 non-null object\nNursery          5635 non-null object\nNuts             5635 non-null object\nPlants           5635 non-null object\nPoultry          5635 non-null object\nPrepared         5635 non-null object\nSoap             5635 non-null object\nTrees            5635 non-null object\nWine             5635 non-null object\nCoffee           5635 non-null object\nBeans            5635 non-null object\nFruits           5635 non-null object\nGrains           5635 non-null object\nJuices           5635 non-null object\nMushrooms        5635 non-null object\nPetFood          5635 non-null object\nTofu             5635 non-null object\nWildHarvested    5635 non-null object\nupdateTime       8655 non-null object\ndtypes: float64(2), int64(1), object(56)\nmemory usage: 3.9+ MB\n"
    }
   ],
   "source": [
    "# Examining every attribute for missing data and data types\n",
    "df.info()"
   ]
  },
  {
   "cell_type": "markdown",
   "metadata": {},
   "source": [
    "   - As shown in the above summary of our dataset, it is worth noting that we are mostly working with categorical data.\n",
    "\n",
    "- Since our anlaysis is mainly focused on the items sold by farmers on markets based on their locations, we will drop all the irrelevant attributes and those with lots of missing values which could otherwise mislead our analysis "
   ]
  },
  {
   "cell_type": "code",
   "execution_count": 7,
   "metadata": {},
   "outputs": [
    {
     "output_type": "execute_result",
     "data": {
      "text/plain": "(8655, 51)"
     },
     "metadata": {},
     "execution_count": 7
    }
   ],
   "source": [
    "# Dropping attributes with lots of missing values\n",
    "    # Since the Season Date and Time have inconsistent missing values among them, they have little importance\n",
    "    # Hence, we will be only left with 52 attributes\n",
    "\n",
    "col_irr = ['Season1Date','Season1Time','Season2Date','Season2Time','Season3Date','Season3Time', 'Season4Date','Season4Time']\n",
    "df = df.drop(col_irr, axis=1)\n",
    "df.shape"
   ]
  },
  {
   "cell_type": "markdown",
   "metadata": {},
   "source": [
    "  -  We have observed that, although our main focus on the data, the selling items, has considerable amount of missing values, their missing values are assiciated with the same markets\n",
    "  \n",
    "  -  These markets which did not provide any records for these selling items has little importance for our anlaysis, hence, we will drop all the markets who has not provided any records "
   ]
  },
  {
   "cell_type": "code",
   "execution_count": 8,
   "metadata": {},
   "outputs": [
    {
     "output_type": "execute_result",
     "data": {
      "text/plain": "(5635, 51)"
     },
     "metadata": {},
     "execution_count": 8
    }
   ],
   "source": [
    "# Here we using Fruit attribute to remove all the markets who does not provide records for selling items\n",
    "\n",
    "df = df[pd.notnull(df['Fruits'])]\n",
    "df.shape"
   ]
  },
  {
   "cell_type": "code",
   "execution_count": 9,
   "metadata": {},
   "outputs": [
    {
     "output_type": "execute_result",
     "data": {
      "text/plain": "(5635, 42)"
     },
     "metadata": {},
     "execution_count": 9
    }
   ],
   "source": [
    "# Moreover, we remove irrelevant attributes with missing values and make our data uniform\n",
    "\n",
    "drop_cols = ['Website','Twitter','Youtube','OtherMedia','street','zip','x','y','Location']\n",
    "df = df.drop(drop_cols, axis=1)\n",
    "df.shape"
   ]
  },
  {
   "cell_type": "code",
   "execution_count": 10,
   "metadata": {},
   "outputs": [
    {
     "output_type": "stream",
     "name": "stdout",
     "text": "<class 'pandas.core.frame.DataFrame'>\nInt64Index: 5635 entries, 0 to 8654\nData columns (total 42 columns):\nFMID             5635 non-null int64\nMarketName       5635 non-null object\nFacebook         3512 non-null object\ncity             5632 non-null object\nCounty           5625 non-null object\nState            5635 non-null object\nCredit           5635 non-null object\nWIC              5635 non-null object\nWICcash          5635 non-null object\nSFMNP            5635 non-null object\nSNAP             5635 non-null object\nOrganic          5635 non-null object\nBakedgoods       5635 non-null object\nCheese           5635 non-null object\nCrafts           5635 non-null object\nFlowers          5635 non-null object\nEggs             5635 non-null object\nSeafood          5635 non-null object\nHerbs            5635 non-null object\nVegetables       5635 non-null object\nHoney            5635 non-null object\nJams             5635 non-null object\nMaple            5635 non-null object\nMeat             5635 non-null object\nNursery          5635 non-null object\nNuts             5635 non-null object\nPlants           5635 non-null object\nPoultry          5635 non-null object\nPrepared         5635 non-null object\nSoap             5635 non-null object\nTrees            5635 non-null object\nWine             5635 non-null object\nCoffee           5635 non-null object\nBeans            5635 non-null object\nFruits           5635 non-null object\nGrains           5635 non-null object\nJuices           5635 non-null object\nMushrooms        5635 non-null object\nPetFood          5635 non-null object\nTofu             5635 non-null object\nWildHarvested    5635 non-null object\nupdateTime       5635 non-null object\ndtypes: int64(1), object(41)\nmemory usage: 1.8+ MB\n"
    }
   ],
   "source": [
    "# Hence, we will be left with 42 uniform and most relevant columns to make analysis\n",
    "df.info()"
   ]
  },
  {
   "cell_type": "markdown",
   "metadata": {},
   "source": [
    "## 5. Data Visualizatoin and Exploration"
   ]
  },
  {
   "cell_type": "code",
   "execution_count": null,
   "metadata": {},
   "outputs": [],
   "source": []
  }
 ],
 "metadata": {
  "kernelspec": {
   "display_name": "Python 3.6.10 64-bit ('tensorflow': conda)",
   "language": "python",
   "name": "python361064bittensorflowconda0aaac7ec2512440c880b9d55ddeeefc5"
  },
  "language_info": {
   "codemirror_mode": {
    "name": "ipython",
    "version": 3
   },
   "file_extension": ".py",
   "mimetype": "text/x-python",
   "name": "python",
   "nbconvert_exporter": "python",
   "pygments_lexer": "ipython3",
   "version": "3.6.10-final"
  }
 },
 "nbformat": 4,
 "nbformat_minor": 4
}